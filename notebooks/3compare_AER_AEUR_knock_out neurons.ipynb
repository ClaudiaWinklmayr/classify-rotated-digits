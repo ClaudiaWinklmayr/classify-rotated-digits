{
 "cells": [
  {
   "cell_type": "code",
   "execution_count": 1,
   "metadata": {
    "collapsed": true
   },
   "outputs": [],
   "source": [
    "import numpy as np\n",
    "import matplotlib.pyplot as plt\n",
    "%matplotlib inline \n",
    "\n",
    "import tensorflow as tf\n",
    "import pickle\n",
    "\n",
    "from functions.build_constant_network import build_network\n",
    "from functions.multiple_bar_plot import multiple_bar_plot\n",
    "\n",
    "import copy\n",
    "\n",
    "PATH = '/home/claudia/Dokumente/Uni/lab_rotation_TU/compare_AER_AEUR'"
   ]
  },
  {
   "cell_type": "markdown",
   "metadata": {},
   "source": [
    "### Initialize AER"
   ]
  },
  {
   "cell_type": "code",
   "execution_count": 2,
   "metadata": {
    "collapsed": true
   },
   "outputs": [],
   "source": [
    "AER_file = PATH + '/network_params/AER_finetuned_params_complete.p'\n",
    "AER_params = pickle.load(open(AER_file, 'rb'))\n",
    "\n",
    "W_AER = AER_params['weights_incl_softmax']\n",
    "B_AER = AER_params['bias_incl_softmax']\n",
    "\n",
    "x_AER, y_AER, weights_AER, bias_AER, activations_AER, measures_AER = \\\n",
    "build_network(W_AER, B_AER) \n",
    "\n",
    "sess = tf.InteractiveSession()\n",
    "tf.global_variables_initializer().run()\n"
   ]
  },
  {
   "cell_type": "markdown",
   "metadata": {},
   "source": [
    "### Load Datasets"
   ]
  },
  {
   "cell_type": "code",
   "execution_count": 3,
   "metadata": {
    "collapsed": true
   },
   "outputs": [],
   "source": [
    "DATA = pickle.load(open(PATH +'/datasets/rotated_mnist_test.p', 'rb'))\n",
    "mnist = DATA['mnist']\n",
    "mnist_30 = DATA['mnist_30']\n",
    "mnist_60 = DATA['mnist_60']\n",
    "mnist_90 = DATA['mnist_90']\n",
    "\n",
    "DIGIT_IDX = pickle.load(open(PATH +'/datasets/mnist_test_digit_indices.p', 'rb'))\n",
    "LABELS = pickle.load(open(PATH +'/datasets/mnist_test_lables.p', 'rb'))"
   ]
  },
  {
   "cell_type": "markdown",
   "metadata": {
    "collapsed": true
   },
   "source": [
    "### Digitwise Accuracy of Manipulated Networks"
   ]
  },
  {
   "cell_type": "code",
   "execution_count": 5,
   "metadata": {
    "collapsed": false
   },
   "outputs": [
    {
     "name": "stdout",
     "output_type": "stream",
     "text": [
      "DATASET \t AER \t\t AER_manip1 \t AER_manip2 \t AER_manip3 \t AER_control\n",
      "0_unrot\t\t 0.967347 \t 0.894898 \t 0.931633 \t 0.972449 \t 0.895918\n",
      "0_rot_90\t 0.745918 \t 0.631633 \t 0.590816 \t 0.761225 \t 0.658163\n",
      "\n",
      "1_unrot\t\t 0.977974 \t 0.954185 \t 0.962996 \t 0.961233 \t 0.980617\n",
      "1_rot_90\t 0.990308 \t 0.947137 \t 0.942731 \t 0.971806 \t 0.981498\n",
      "\n",
      "2_unrot\t\t 0.778101 \t 0.104651 \t 0.734496 \t 0.750969 \t 0.351744\n",
      "2_rot_90\t 0.502907 \t 0.0387597 \t 0.467054 \t 0.45155 \t 0.151163\n",
      "\n",
      "3_unrot\t\t 0.780198 \t 0.487129 \t 0.69505 \t 0.805941 \t 0.841584\n",
      "3_rot_90\t 0.19703 \t 0.0207921 \t 0.167327 \t 0.239604 \t 0.229703\n",
      "\n",
      "4_unrot\t\t 0.762729 \t 0.422607 \t 0.822811 \t 0.163951 \t 0.911405\n",
      "4_rot_90\t 0.342159 \t 0.0600815 \t 0.39613 \t 0.120163 \t 0.594705\n",
      "\n",
      "5_unrot\t\t 0.780269 \t 0.463004 \t 0.477578 \t 0.688341 \t 0.673767\n",
      "5_rot_90\t 0.263453 \t 0.0257848 \t 0.139013 \t 0.190583 \t 0.284753\n",
      "\n",
      "6_unrot\t\t 0.847599 \t 0.507307 \t 0.877871 \t 0.818372 \t 0.140919\n",
      "6_rot_90\t 0.51357 \t 0.0542797 \t 0.629436 \t 0.496868 \t 0.0678497\n",
      "\n",
      "7_unrot\t\t 0.810311 \t 0.551556 \t 0.736381 \t 0.848249 \t 0.751945\n",
      "7_rot_90\t 0.840467 \t 0.400778 \t 0.743191 \t 0.833658 \t 0.685798\n",
      "\n",
      "8_unrot\t\t 0.852156 \t 0.64271 \t 0.778234 \t 0.774127 \t 0.776181\n",
      "8_rot_90\t 0.36037 \t 0.117043 \t 0.505133 \t 0.268994 \t 0.358316\n",
      "\n",
      "9_unrot\t\t 0.83449 \t 0.692765 \t 0.583746 \t 0.693756 \t 0.899901\n",
      "9_rot_90\t 0.48662 \t 0.252725 \t 0.185332 \t 0.493558 \t 0.695738\n",
      "\n"
     ]
    }
   ],
   "source": [
    "layer_number = 4\n",
    "layer = activations_AER['h_'+ str(layer_number)]\n",
    "print('DATASET \\t AER \\t\\t AER_manip1 \\t AER_manip2 \\t AER_manip3 \\t AER_control')\n",
    "\n",
    "for i in range(10): \n",
    "    \n",
    "    # select a digit and define the corresponding rotated& unrotated datasets\n",
    "    digit = i\n",
    "    unrot = mnist[DIGIT_IDX['only_'+str(digit)]]\n",
    "    rot_90 = mnist_90[DIGIT_IDX['only_'+ str(digit)]]\n",
    "    labels = LABELS[DIGIT_IDX['only_'+ str(digit)]]\n",
    "\n",
    "    # perform classification for the rotated and unrotated dataset & \n",
    "    # save layer 4 activations\n",
    "    y_0 = sess.run(layer, feed_dict={x_AER: unrot.T, y_AER: labels.T})\n",
    "    y_90 = sess.run(layer, feed_dict={x_AER: rot_90.T, y_AER: labels.T})\n",
    "\n",
    "    # z_x holds the indices of the maximally active neuron for each image\n",
    "    # zz_x holds the number of times each neuron was the maximally active\n",
    "    z_0 = np.argmax(y_0, axis = 0)\n",
    "    zz_0 = np.bincount(z_0)\n",
    "    z_90 = np.argmax(y_90, axis = 0)\n",
    "    zz_90 = np.bincount(z_90) \n",
    "    \n",
    "    # unrot_and_digit conatins the indices of all neurons that were maximally active\n",
    "    # during the classification of the unrotated datset, \n",
    "    # rot_and_digit conatins the indices of all neurons that were maximally active\n",
    "    # during the classification of the rotated datset, \n",
    "    unrot_and_digit = np.flatnonzero(zz_0)\n",
    "    rot_and_digit = np.flatnonzero(zz_90)\n",
    "\n",
    "    # digit_neurons contains the indices of all neurons that were maximally active \n",
    "    # during both classification tasks\n",
    "    # rot_neurons contains the indices of all neurons that were maximally active \n",
    "    # during the classification of rotated data but not of unrotated\n",
    "    # unrot_neurons contains the indices of all neurons that were maximally active \n",
    "    # during the classification of unrotated data but not of rotated\n",
    "    digit_neurons = list(set(rot_and_digit).intersection(set(unrot_and_digit)))\n",
    "    rot_neurons = list(set(rot_and_digit) - set(digit_neurons))\n",
    "    unrot_neurons = list(set(unrot_and_digit) - set(digit_neurons))\n",
    "\n",
    "    N = np.max([len(digit_neurons), len(rot_neurons), len(unrot_neurons)])\n",
    "    control_neurons = np.random.randint(0,128, N)\n",
    "    \n",
    "    ##########################################################################################\n",
    "    # CREATE MANIPULATED NETWORKS\n",
    "    ##########################################################################################\n",
    "\n",
    "    # in the manip1-weights all conections from layer4 neurons with the inidces from the set \n",
    "    # digit_neurons to the softmax layer are set to 0\n",
    "    W_AER_manip1 = copy.deepcopy(W_AER)\n",
    "    W_AER_manip1[layer_number][:, digit_neurons] = 0\n",
    "    \n",
    "    x_AER_manip1, y_AER_manip1, weights_AER_manip1, bias_AER_manip1, activations_AER_manip1,\\\n",
    "    measures_AER_manip1 = build_network(W_AER_manip1, B_AER)\n",
    "\n",
    "    # in the manip2-weights all conections from layer4 neurons with the inidces from the set \n",
    "    # rot_neurons to the softmax layer are set to 0\n",
    "    W_AER_manip2 = copy.deepcopy(W_AER)\n",
    "    W_AER_manip2[layer_number][:, rot_neurons] = 0\n",
    "    \n",
    "    x_AER_manip2, y_AER_manip2, weights_AER_manip2, bias_AER_manip2, activations_AER_manip2,\\\n",
    "    measures_AER_manip2 = build_network(W_AER_manip2, B_AER) \n",
    "    \n",
    "    # in the manip3-weights all conections from layer4 neurons with the inidces from the set \n",
    "    # unrot_neurons to the softmax layer are set to 0\n",
    "    W_AER_manip3 = copy.deepcopy(W_AER)\n",
    "    W_AER_manip3[layer_number][:, unrot_neurons] = 0\n",
    "    \n",
    "    x_AER_manip3, y_AER_manip3, weights_AER_manip3, bias_AER_manip3, activations_AER_manip3,\\\n",
    "    measures_AER_manip3 = build_network(W_AER_manip3, B_AER) \n",
    "\n",
    "    # in the control-weights N connections from layer 4 to softmax are chosen at random and \n",
    "    # set to 0\n",
    "    W_AER_control = copy.deepcopy(W_AER)\n",
    "    W_AER_control[layer_number][:, control_neurons] = 0\n",
    "\n",
    "    x_AER_control, y_AER_control, weights_AER_control, bias_AER_control, activations_AER_control,\\\n",
    "    measures_AER_control = build_network(W_AER_control, B_AER) \n",
    "\n",
    "    sess = tf.InteractiveSession()\n",
    "    tf.global_variables_initializer().run()\n",
    "    \n",
    "    ##########################################################################################\n",
    "    # CALCULATE ACCURACIES FOR ALL NETWORKS AND THE ROTATED AND UNROTATED DATASETS \n",
    "    ##########################################################################################\n",
    "    \n",
    "    acc_AER_0 = sess.run(measures_AER['accuracy'], feed_dict={x_AER: unrot.T, y_AER: labels.T})\n",
    "    acc_AER_90 = sess.run(measures_AER['accuracy'], feed_dict={x_AER: rot_90.T, y_AER: labels.T})\n",
    "\n",
    "    acc_AER_manip1_0 = sess.run(measures_AER_manip1['accuracy'], feed_dict={x_AER_manip1: unrot.T, y_AER_manip1: labels.T})\n",
    "    acc_AER_manip1_90 = sess.run(measures_AER_manip1['accuracy'], feed_dict={x_AER_manip1: rot_90.T, y_AER_manip1: labels.T})\n",
    "\n",
    "    acc_AER_manip2_0 = sess.run(measures_AER_manip2['accuracy'], feed_dict={x_AER_manip2: unrot.T, y_AER_manip2: labels.T})\n",
    "    acc_AER_manip2_90 = sess.run(measures_AER_manip2['accuracy'], feed_dict={x_AER_manip2: rot_90.T, y_AER_manip2: labels.T})\n",
    "\n",
    "    acc_AER_manip3_0 = sess.run(measures_AER_manip3['accuracy'], feed_dict={x_AER_manip3: unrot.T, y_AER_manip3: labels.T})\n",
    "    acc_AER_manip3_90 = sess.run(measures_AER_manip3['accuracy'], feed_dict={x_AER_manip3: rot_90.T, y_AER_manip3: labels.T})\n",
    "    \n",
    "    acc_AER_control_0 = sess.run(measures_AER_control['accuracy'], feed_dict={x_AER_control: unrot.T, y_AER_control: labels.T})\n",
    "    acc_AER_control_90 = sess.run(measures_AER_control['accuracy'], feed_dict={x_AER_control: rot_90.T, y_AER_control: labels.T})\n",
    "\n",
    "    print(str(digit)+'_unrot\\t\\t', acc_AER_0, '\\t', acc_AER_manip1_0, '\\t', acc_AER_manip2_0, '\\t', acc_AER_manip3_0, '\\t', acc_AER_control_0)\n",
    "    print(str(digit)+'_rot_90\\t', acc_AER_90, '\\t', acc_AER_manip1_90, '\\t', acc_AER_manip2_90, '\\t', acc_AER_manip3_90, '\\t', acc_AER_control_90)\n",
    "    print('')\n",
    "\n"
   ]
  },
  {
   "cell_type": "markdown",
   "metadata": {
    "collapsed": true
   },
   "source": [
    "### Discussion:\n",
    "The four columns of the above table show the classification results for 4 types of networks: \n",
    "- AER: Unchanged AER network as in previous notebooks (Autoencoder- weights + retrained softmax).\n",
    "- AER_manip1: weights connecting layer4 neurons that showed maximal activity during the classification of both rotated and unrotated dataset to the softmax are set to 0.\n",
    "- AER_manip2: weights connecting layer4 neurons that showed maximal activity during the classification of the rotated dataset (but not during the classifictaion of the unrotated dataset) to the softmax are set to 0.\n",
    "- AER_manip3: weights connecting layer4 neurons that showed maximal activity during the classification of the unrotated dataset (but not during the classifictaion of the rotated dataset) to the softmax are set to 0.\n",
    "- AER_control: The same number of weights as in AER_manip1 are chosen at random and set to 0.\n",
    "    \n",
    "    \n",
    "The neurons chosen for the manipx conditions seem to have the desired effect because switching them off (i.e. setting the relevant weights to 0) decreases the accuracy stronger than turning off an equivalent number of neurons at random. \n",
    "\n",
    "Not surprisingly the manip1 condition seems to reduce accuracy the most. The differences between manip2 and manip3 are more subtle and one has to take into account that for the rotated dataset the accuracy is generally lower. \n",
    "\n",
    "The case of digit 1 might be interesting because here we have close to perfect accuracy for both the roatated and the unrotated case: \n",
    "\n",
    "|DATASET| \t AER| \t\t AER_manip1| \t AER_manip2| \t AER_manip3| \t AER_control|\n",
    "|---|---|---|---|---|---|\n",
    "|1_unrot|\t\t 0.977974| \t 0.954185| \t     0.962996| \t     0.961233| \t     0.980617|\n",
    "|1_rot_90|\t 0.990308| \t 0.947137| \t     0.942731| \t     0.971806| \t     0.981498|\n",
    "\n",
    "when we remove the neurons that are only active for the rotated set (manip2) accuracy for the roatated data decreases stronger than for the unrotated. \n",
    "On the other hand if we remove the neurons that are only active in the unrotated case we see the opposite picture. "
   ]
  },
  {
   "cell_type": "code",
   "execution_count": null,
   "metadata": {
    "collapsed": true
   },
   "outputs": [],
   "source": []
  }
 ],
 "metadata": {
  "anaconda-cloud": {},
  "kernelspec": {
   "display_name": "Python [Root]",
   "language": "python",
   "name": "Python [Root]"
  },
  "language_info": {
   "codemirror_mode": {
    "name": "ipython",
    "version": 3
   },
   "file_extension": ".py",
   "mimetype": "text/x-python",
   "name": "python",
   "nbconvert_exporter": "python",
   "pygments_lexer": "ipython3",
   "version": "3.5.1"
  }
 },
 "nbformat": 4,
 "nbformat_minor": 0
}
